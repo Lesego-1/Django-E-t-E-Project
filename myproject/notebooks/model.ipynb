{
 "cells": [
  {
   "cell_type": "code",
   "execution_count": 1,
   "metadata": {},
   "outputs": [],
   "source": [
    "from sklearn.ensemble import RandomForestClassifier\n",
    "from sklearn.model_selection import GridSearchCV, train_test_split\n",
    "from sklearn.preprocessing import StandardScaler\n",
    "import joblib\n",
    "import pandas as pd\n",
    "from sklearn.metrics import accuracy_score, classification_report"
   ]
  },
  {
   "cell_type": "code",
   "execution_count": 2,
   "metadata": {},
   "outputs": [],
   "source": [
    "# Initialize feature and target datasets\n",
    "X = pd.read_csv(r\"features.csv\")\n",
    "y = pd.read_csv(r\"target.csv\")"
   ]
  },
  {
   "cell_type": "code",
   "execution_count": 3,
   "metadata": {},
   "outputs": [
    {
     "data": {
      "text/plain": [
       "(50, 40)"
      ]
     },
     "execution_count": 3,
     "metadata": {},
     "output_type": "execute_result"
    }
   ],
   "source": [
    "sample_size = 50  # Define sample size\n",
    "# Merge X and Y to create full dataset\n",
    "df = X\n",
    "df['deposit'] = y\n",
    "\n",
    "# Randomly select 50 records\n",
    "sample_df, _ = train_test_split(\n",
    "    df,\n",
    "    train_size=sample_size,\n",
    "    stratify=df['deposit'],\n",
    "    random_state=42\n",
    ")\n",
    "\n",
    "sample_df.shape  # Print shape to ensure that the sampling is correct"
   ]
  },
  {
   "cell_type": "code",
   "execution_count": 4,
   "metadata": {},
   "outputs": [
    {
     "data": {
      "text/plain": [
       "deposit\n",
       "0    0.52\n",
       "1    0.48\n",
       "Name: proportion, dtype: float64"
      ]
     },
     "execution_count": 4,
     "metadata": {},
     "output_type": "execute_result"
    }
   ],
   "source": [
    "sample_df['deposit'].value_counts(normalize=True)"
   ]
  },
  {
   "cell_type": "code",
   "execution_count": 5,
   "metadata": {},
   "outputs": [
    {
     "data": {
      "text/html": [
       "<div>\n",
       "<style scoped>\n",
       "    .dataframe tbody tr th:only-of-type {\n",
       "        vertical-align: middle;\n",
       "    }\n",
       "\n",
       "    .dataframe tbody tr th {\n",
       "        vertical-align: top;\n",
       "    }\n",
       "\n",
       "    .dataframe thead th {\n",
       "        text-align: right;\n",
       "    }\n",
       "</style>\n",
       "<table border=\"1\" class=\"dataframe\">\n",
       "  <thead>\n",
       "    <tr style=\"text-align: right;\">\n",
       "      <th></th>\n",
       "      <th>Feature</th>\n",
       "      <th>Importance</th>\n",
       "    </tr>\n",
       "  </thead>\n",
       "  <tbody>\n",
       "    <tr>\n",
       "      <th>0</th>\n",
       "      <td>age</td>\n",
       "      <td>0.104708</td>\n",
       "    </tr>\n",
       "    <tr>\n",
       "      <th>1</th>\n",
       "      <td>marital</td>\n",
       "      <td>0.037838</td>\n",
       "    </tr>\n",
       "    <tr>\n",
       "      <th>2</th>\n",
       "      <td>credit_on_default</td>\n",
       "      <td>0.000000</td>\n",
       "    </tr>\n",
       "    <tr>\n",
       "      <th>3</th>\n",
       "      <td>annual_balance</td>\n",
       "      <td>0.077423</td>\n",
       "    </tr>\n",
       "    <tr>\n",
       "      <th>4</th>\n",
       "      <td>housing_loan</td>\n",
       "      <td>0.097818</td>\n",
       "    </tr>\n",
       "  </tbody>\n",
       "</table>\n",
       "</div>"
      ],
      "text/plain": [
       "             Feature  Importance\n",
       "0                age    0.104708\n",
       "1            marital    0.037838\n",
       "2  credit_on_default    0.000000\n",
       "3     annual_balance    0.077423\n",
       "4       housing_loan    0.097818"
      ]
     },
     "execution_count": 5,
     "metadata": {},
     "output_type": "execute_result"
    }
   ],
   "source": [
    "# Define new X and y variables\n",
    "X = sample_df.drop('deposit', axis=1)\n",
    "y = sample_df['deposit']\n",
    "\n",
    "# Split data into train and test datasets\n",
    "X_train, X_test, y_train, y_test = train_test_split(X, y, train_size=0.75, test_size=0.25, random_state=42)\n",
    "\n",
    "# Train demo model to get feature importances\n",
    "demo_model = RandomForestClassifier(random_state=42)\n",
    "demo_model.fit(X_train, y_train)\n",
    "feature_importances = demo_model.feature_importances_\n",
    "\n",
    "# Map importances to their features\n",
    "feature_importance_df = pd.DataFrame({\n",
    "    \"Feature\" : X.columns,\n",
    "    'Importance' : feature_importances\n",
    "})\n",
    "\n",
    "feature_importance_df.head()"
   ]
  },
  {
   "cell_type": "code",
   "execution_count": 6,
   "metadata": {},
   "outputs": [
    {
     "name": "stdout",
     "output_type": "stream",
     "text": [
      "['contact_duration', 'age', 'housing_loan', 'annual_balance', 'contact_day']\n"
     ]
    },
    {
     "data": {
      "text/html": [
       "<div>\n",
       "<style scoped>\n",
       "    .dataframe tbody tr th:only-of-type {\n",
       "        vertical-align: middle;\n",
       "    }\n",
       "\n",
       "    .dataframe tbody tr th {\n",
       "        vertical-align: top;\n",
       "    }\n",
       "\n",
       "    .dataframe thead th {\n",
       "        text-align: right;\n",
       "    }\n",
       "</style>\n",
       "<table border=\"1\" class=\"dataframe\">\n",
       "  <thead>\n",
       "    <tr style=\"text-align: right;\">\n",
       "      <th></th>\n",
       "      <th>Feature</th>\n",
       "      <th>Importance</th>\n",
       "    </tr>\n",
       "  </thead>\n",
       "  <tbody>\n",
       "    <tr>\n",
       "      <th>7</th>\n",
       "      <td>contact_duration</td>\n",
       "      <td>0.212132</td>\n",
       "    </tr>\n",
       "    <tr>\n",
       "      <th>0</th>\n",
       "      <td>age</td>\n",
       "      <td>0.104708</td>\n",
       "    </tr>\n",
       "    <tr>\n",
       "      <th>4</th>\n",
       "      <td>housing_loan</td>\n",
       "      <td>0.097818</td>\n",
       "    </tr>\n",
       "    <tr>\n",
       "      <th>3</th>\n",
       "      <td>annual_balance</td>\n",
       "      <td>0.077423</td>\n",
       "    </tr>\n",
       "    <tr>\n",
       "      <th>6</th>\n",
       "      <td>contact_day</td>\n",
       "      <td>0.072956</td>\n",
       "    </tr>\n",
       "  </tbody>\n",
       "</table>\n",
       "</div>"
      ],
      "text/plain": [
       "            Feature  Importance\n",
       "7  contact_duration    0.212132\n",
       "0               age    0.104708\n",
       "4      housing_loan    0.097818\n",
       "3    annual_balance    0.077423\n",
       "6       contact_day    0.072956"
      ]
     },
     "execution_count": 6,
     "metadata": {},
     "output_type": "execute_result"
    }
   ],
   "source": [
    "feature_importance_df.sort_values(by='Importance', ascending=False, inplace=True)  # Sort features by most important\n",
    "\n",
    "selected_features = list(feature_importance_df['Feature'][0:5])  # Put selected features into list\n",
    "\n",
    "print(selected_features)\n",
    "\n",
    "feature_importance_df.head()"
   ]
  },
  {
   "cell_type": "code",
   "execution_count": 7,
   "metadata": {},
   "outputs": [
    {
     "data": {
      "text/html": [
       "<div>\n",
       "<style scoped>\n",
       "    .dataframe tbody tr th:only-of-type {\n",
       "        vertical-align: middle;\n",
       "    }\n",
       "\n",
       "    .dataframe tbody tr th {\n",
       "        vertical-align: top;\n",
       "    }\n",
       "\n",
       "    .dataframe thead th {\n",
       "        text-align: right;\n",
       "    }\n",
       "</style>\n",
       "<table border=\"1\" class=\"dataframe\">\n",
       "  <thead>\n",
       "    <tr style=\"text-align: right;\">\n",
       "      <th></th>\n",
       "      <th>contact_duration</th>\n",
       "      <th>age</th>\n",
       "      <th>housing_loan</th>\n",
       "      <th>annual_balance</th>\n",
       "      <th>contact_day</th>\n",
       "    </tr>\n",
       "  </thead>\n",
       "  <tbody>\n",
       "    <tr>\n",
       "      <th>423</th>\n",
       "      <td>829</td>\n",
       "      <td>30</td>\n",
       "      <td>0</td>\n",
       "      <td>5</td>\n",
       "      <td>10</td>\n",
       "    </tr>\n",
       "    <tr>\n",
       "      <th>1697</th>\n",
       "      <td>439</td>\n",
       "      <td>26</td>\n",
       "      <td>0</td>\n",
       "      <td>3511</td>\n",
       "      <td>30</td>\n",
       "    </tr>\n",
       "    <tr>\n",
       "      <th>9108</th>\n",
       "      <td>91</td>\n",
       "      <td>38</td>\n",
       "      <td>1</td>\n",
       "      <td>-397</td>\n",
       "      <td>21</td>\n",
       "    </tr>\n",
       "    <tr>\n",
       "      <th>3405</th>\n",
       "      <td>1093</td>\n",
       "      <td>30</td>\n",
       "      <td>0</td>\n",
       "      <td>3779</td>\n",
       "      <td>13</td>\n",
       "    </tr>\n",
       "    <tr>\n",
       "      <th>7387</th>\n",
       "      <td>322</td>\n",
       "      <td>46</td>\n",
       "      <td>1</td>\n",
       "      <td>-29</td>\n",
       "      <td>12</td>\n",
       "    </tr>\n",
       "  </tbody>\n",
       "</table>\n",
       "</div>"
      ],
      "text/plain": [
       "      contact_duration  age  housing_loan  annual_balance  contact_day\n",
       "423                829   30             0               5           10\n",
       "1697               439   26             0            3511           30\n",
       "9108                91   38             1            -397           21\n",
       "3405              1093   30             0            3779           13\n",
       "7387               322   46             1             -29           12"
      ]
     },
     "execution_count": 7,
     "metadata": {},
     "output_type": "execute_result"
    }
   ],
   "source": [
    "# Filter out irrelevant features\n",
    "X_train = X_train[selected_features]\n",
    "X_test = X_test[selected_features]\n",
    "\n",
    "X_train.head()"
   ]
  },
  {
   "cell_type": "code",
   "execution_count": 8,
   "metadata": {},
   "outputs": [],
   "source": [
    "# Scale X data for better model performance\n",
    "scaler = StandardScaler()\n",
    "X_train_scaled = scaler.fit_transform(X_train)\n",
    "X_test_scaled = scaler.transform(X_test)\n",
    "\n",
    "# Assert that the scaled data has the same shape as the original values\n",
    "assert(X_train.shape == X_train_scaled.shape)\n",
    "assert(X_test.shape == X_test_scaled.shape)"
   ]
  },
  {
   "cell_type": "code",
   "execution_count": 9,
   "metadata": {},
   "outputs": [
    {
     "name": "stdout",
     "output_type": "stream",
     "text": [
      "Fitting 2 folds for each of 432 candidates, totalling 864 fits\n",
      "Best parameters: {'bootstrap': True, 'max_depth': None, 'max_features': 'sqrt', 'min_samples_leaf': 4, 'min_samples_split': 2, 'n_estimators': 100}\n",
      "Best Score: 0.7309941520467836\n"
     ]
    },
    {
     "data": {
      "text/plain": [
       "['../myapp/ml_models/scaler.pkl']"
      ]
     },
     "execution_count": 9,
     "metadata": {},
     "output_type": "execute_result"
    }
   ],
   "source": [
    "param_grid = {\n",
    "    'n_estimators': [100, 200, 300],          # Number of trees in the forest\n",
    "    'max_depth': [None, 10, 20, 30],          # Depth of each tree\n",
    "    'min_samples_split': [2, 5, 10],          # Minimum samples required to split an internal node\n",
    "    'min_samples_leaf': [1, 2, 4],            # Minimum samples required to be at a leaf node\n",
    "    'max_features': ['sqrt', 'log2'],         # Number of features to consider for best split\n",
    "    'bootstrap': [True, False],               # Whether to use bootstrap samples\n",
    "}\n",
    "\n",
    "rf_model = RandomForestClassifier(random_state=42)  # Intialize model\n",
    "\n",
    "grid_search = GridSearchCV(\n",
    "    estimator=rf_model,\n",
    "    param_grid=param_grid,\n",
    "    scoring='accuracy',\n",
    "    cv = 2,\n",
    "    n_jobs=-1,\n",
    "    verbose=2\n",
    ")\n",
    "grid_search.fit(X_train_scaled, y_train)  # Fit the model with first 50 records for computational reasons\n",
    "\n",
    "print(f\"Best parameters: {grid_search.best_params_}\")\n",
    "print(f\"Best Score: {grid_search.best_score_}\")\n",
    "\n",
    "# Save the model and scaler\n",
    "best_model = grid_search.best_estimator_\n",
    "joblib.dump(best_model, r\"../myapp/ml_models/rf_model.pkl\")\n",
    "joblib.dump(scaler, r\"../myapp/ml_models/scaler.pkl\")"
   ]
  },
  {
   "cell_type": "code",
   "execution_count": 11,
   "metadata": {},
   "outputs": [
    {
     "name": "stdout",
     "output_type": "stream",
     "text": [
      "The model's accuracy is: 0.54\n",
      "\n",
      "              precision    recall  f1-score   support\n",
      "\n",
      "           0       0.56      0.71      0.62         7\n",
      "           1       0.50      0.33      0.40         6\n",
      "\n",
      "    accuracy                           0.54        13\n",
      "   macro avg       0.53      0.52      0.51        13\n",
      "weighted avg       0.53      0.54      0.52        13\n",
      "\n"
     ]
    }
   ],
   "source": [
    "y_pred = best_model.predict(X_test_scaled)  # Predict the test values\n",
    "accuracy = accuracy_score(y_test, y_pred)  # Calculate accuracy\n",
    "\n",
    "# Print the accuracy and classification report\n",
    "print(f\"The model's accuracy is: {round(accuracy, 2)}\")\n",
    "print()\n",
    "print(classification_report(y_test, y_pred))\n"
   ]
  }
 ],
 "metadata": {
  "kernelspec": {
   "display_name": "Python 3",
   "language": "python",
   "name": "python3"
  },
  "language_info": {
   "codemirror_mode": {
    "name": "ipython",
    "version": 3
   },
   "file_extension": ".py",
   "mimetype": "text/x-python",
   "name": "python",
   "nbconvert_exporter": "python",
   "pygments_lexer": "ipython3",
   "version": "3.12.2"
  }
 },
 "nbformat": 4,
 "nbformat_minor": 2
}
